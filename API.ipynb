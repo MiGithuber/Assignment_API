{
 "cells": [
  {
   "cell_type": "markdown",
   "id": "223467f0-a1d6-4bc9-8c05-e1ed6a7d5813",
   "metadata": {},
   "source": [
    "#1\n"
   ]
  },
  {
   "cell_type": "markdown",
   "id": "8c1f36bf-eb38-44b1-898d-c1403cb44cd8",
   "metadata": {},
   "source": [
    "APIs are mechanisms that enable two software components to communicate with each other using a set of definitions and protocols. For example, the weather bureau's software system contains daily weather data. The weather app on your phone “talks” to this system via APIs and shows you daily weather updates on your phone."
   ]
  },
  {
   "cell_type": "markdown",
   "id": "ba795a6c-6743-4ce4-8c90-b679f1e4d6fe",
   "metadata": {},
   "source": [
    "#2"
   ]
  },
  {
   "cell_type": "raw",
   "id": "527fe9f3-f190-4dd1-9e1d-a78f8a91788e",
   "metadata": {},
   "source": [
    "ADVANTAGES:\n",
    "    Efficiency: When you have content that is automatically published and made available on different channels simultaneously, APIs allow for more efficient data distribution. Adaptability: One of the greatest benefits of APIs is the ability it has to adapt to changes through data migration and flexibility of services.\n",
    "DISADVANTAGES:\n",
    "    As a single point of entry, an API is a gateway and can become a hacker's primary target. Once the API is compromised, all other applications and systems become vulnerable."
   ]
  },
  {
   "cell_type": "markdown",
   "id": "287617e5-9131-443e-80be-543648e08354",
   "metadata": {},
   "source": [
    "#3"
   ]
  },
  {
   "cell_type": "raw",
   "id": "f90279d9-857e-4840-812c-9b65c20ff29f",
   "metadata": {},
   "source": [
    "a) A Web API is an application programming interface for the Web. A Browser API can extend the functionality of a web browser. A Server API can extend the functionality of a web server.\n",
    "b)API is an interface that exposes an application's data to outside software, whereas web applications are one type of API with stricter requirements.\n",
    "\n"
   ]
  },
  {
   "cell_type": "markdown",
   "id": "eebceed0-1dcb-4c78-83b9-3c19427fe73d",
   "metadata": {},
   "source": [
    "#4 & #5"
   ]
  },
  {
   "cell_type": "raw",
   "id": "11bcd6ac-f881-4311-b064-ceeee208bcb9",
   "metadata": {},
   "source": [
    "rest representational state transfer uses http protocol.\n",
    "soap simple object access protocol  uses tcp/smtp protocol.\n",
    "rest is simple, scalable and flexible than soap to use.\n",
    "if data privacy is concerned use soap as it provides security.\n",
    "soap transfer data in xml format."
   ]
  }
 ],
 "metadata": {
  "kernelspec": {
   "display_name": "Python 3 (ipykernel)",
   "language": "python",
   "name": "python3"
  },
  "language_info": {
   "codemirror_mode": {
    "name": "ipython",
    "version": 3
   },
   "file_extension": ".py",
   "mimetype": "text/x-python",
   "name": "python",
   "nbconvert_exporter": "python",
   "pygments_lexer": "ipython3",
   "version": "3.10.8"
  }
 },
 "nbformat": 4,
 "nbformat_minor": 5
}
